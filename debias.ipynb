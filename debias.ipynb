{
 "cells": [
  {
   "cell_type": "markdown",
   "metadata": {},
   "source": [
    "# Debiasing Facial Recognition Systems"
   ]
  },
  {
   "cell_type": "code",
   "execution_count": 8,
   "metadata": {},
   "outputs": [],
   "source": [
    "import numpy as np\n",
    "import pandas as pd\n",
    "import tensorflow as tf\n",
    "import mitdeeplearning as mdl\n",
    "import matplotlib.pyplot as plt\n",
    "from tqdm import tqdm\n",
    "import functools"
   ]
  },
  {
   "cell_type": "code",
   "execution_count": 4,
   "metadata": {},
   "outputs": [
    {
     "name": "stdout",
     "output_type": "stream",
     "text": [
      "Downloading data from https://www.dropbox.com/s/hlz8atheyozp1yx/train_face.h5?dl=1\n",
      "1262288896/Unknown - 207s 0us/stepOpening C:\\Users\\aadig\\.keras\\datasets\\train_face.h5\n",
      "Loading data into memory...\n"
     ]
    }
   ],
   "source": [
    "path_train = tf.keras.utils.get_file('train_face.h5', 'https://www.dropbox.com/s/hlz8atheyozp1yx/train_face.h5?dl=1')\n",
    "loader = mdl.lab2.TrainingDatasetLoader(path_train)"
   ]
  },
  {
   "cell_type": "code",
   "execution_count": 5,
   "metadata": {},
   "outputs": [],
   "source": [
    "number_of_training_examples = loader.get_train_size()\n",
    "(images, labels) = loader.get_batch(100)"
   ]
  },
  {
   "cell_type": "markdown",
   "metadata": {},
   "source": [
    "## Step 1: Create a baseline model with CNNs to identify potentially biased model"
   ]
  },
  {
   "cell_type": "markdown",
   "metadata": {},
   "source": [
    "Examine the datasets to see sample datapoints"
   ]
  },
  {
   "cell_type": "code",
   "execution_count": 7,
   "metadata": {},
   "outputs": [
    {
     "data": {
      "application/vnd.jupyter.widget-view+json": {
       "model_id": "bc08c305adf34831a40748ad3fb72f18",
       "version_major": 2,
       "version_minor": 0
      },
      "text/plain": [
       "interactive(children=(IntSlider(value=25, description='idx_face', max=50), Output()), _dom_classes=('widget-in…"
      ]
     },
     "metadata": {},
     "output_type": "display_data"
    },
    {
     "data": {
      "application/vnd.jupyter.widget-view+json": {
       "model_id": "f150735f45d64b4b8da50e224524063f",
       "version_major": 2,
       "version_minor": 0
      },
      "text/plain": [
       "interactive(children=(IntSlider(value=25, description='not_idx_face', max=50), Output()), _dom_classes=('widge…"
      ]
     },
     "metadata": {},
     "output_type": "display_data"
    }
   ],
   "source": [
    "from ipywidgets import interact\n",
    "\n",
    "face_images = images[np.where(labels == 1)[0]]\n",
    "not_face_images = images[np.where(labels == 0)[0]]\n",
    "\n",
    "@interact(idx_face = (0,50))\n",
    "def plt1(idx_face):\n",
    "    plt.figure(figsize=(5,5))\n",
    "    plt.subplot(1,2,1)\n",
    "    plt.imshow(face_images[idx_face])\n",
    "    plt.title(\"Face\")\n",
    "    plt.grid(False)\n",
    "\n",
    "@interact(not_idx_face = (0,50))\n",
    "def plt2(not_idx_face):\n",
    "    plt.subplot(1,2,2)\n",
    "    plt.imshow(not_face_images[not_idx_face])\n",
    "    plt.title(\"Not face\")\n",
    "    plt.grid(False)\n"
   ]
  },
  {
   "cell_type": "code",
   "execution_count": 10,
   "metadata": {},
   "outputs": [],
   "source": [
    "n_filter = 12\n",
    "\n",
    "def base_classifier(n_outputs = 1):\n",
    "    Conv2D = functools.partial(tf.keras.layers.Conv2D, padding = 'same', activation = 'relu')\n",
    "\n",
    "    BatchNormalization = tf.keras.layers.BatchNormalization\n",
    "    Flatten = tf.keras.layers.Flatten\n",
    "    Dense = functools.partial(tf.keras.layers.Dense, activation = 'relu')\n",
    "\n",
    "    model = tf.keras.Sequential([\n",
    "        Conv2D(filters = 1*n_filter, kernel_size=5, strides = 2),\n",
    "        BatchNormalization(),\n",
    "\n",
    "        Conv2D(filters = 2*n_filter, kernel_size=5, strides = 2),\n",
    "        BatchNormalization(),\n",
    "\n",
    "        Conv2D(filters = 4*n_filter, kernel_size=5, strides = 2),\n",
    "        BatchNormalization(),\n",
    "\n",
    "        Conv2D(filters = 6*n_filter, kernel_size=5, strides = 2),\n",
    "        BatchNormalization(),\n",
    "\n",
    "        Flatten(),\n",
    "        Dense(512),\n",
    "        Dense(n_outputs, activation = None)\n",
    "    ])\n",
    "    return model\n",
    "\n",
    "base_classifier = base_classifier()"
   ]
  }
 ],
 "metadata": {
  "interpreter": {
   "hash": "2be5faf79681da6f2a61fdfdd5405d65d042280f7fba6178067603e3a2925119"
  },
  "kernelspec": {
   "display_name": "Python 3.10.0 64-bit",
   "language": "python",
   "name": "python3"
  },
  "language_info": {
   "codemirror_mode": {
    "name": "ipython",
    "version": 3
   },
   "file_extension": ".py",
   "mimetype": "text/x-python",
   "name": "python",
   "nbconvert_exporter": "python",
   "pygments_lexer": "ipython3",
   "version": "3.8.8"
  },
  "orig_nbformat": 4
 },
 "nbformat": 4,
 "nbformat_minor": 2
}
